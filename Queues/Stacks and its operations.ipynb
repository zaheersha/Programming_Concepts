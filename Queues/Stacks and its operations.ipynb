{
 "cells": [
  {
   "cell_type": "markdown",
   "id": "ddbe43c4",
   "metadata": {},
   "source": [
    "# Implementation of Stack in Python.\n"
   ]
  },
  {
   "cell_type": "code",
   "execution_count": 1,
   "id": "f4dc6f6c",
   "metadata": {},
   "outputs": [],
   "source": [
    "class Stack:\n",
    "    def __init__(self):\n",
    "        self.stack = []\n",
    "\n",
    "    def push(self, item):\n",
    "        self.stack.append(item)\n",
    "\n",
    "    def pop(self):\n",
    "        if len(self.stack) < 1:\n",
    "            return None\n",
    "        return self.stack.pop()\n",
    "\n",
    "    def peek(self):\n",
    "        if len(self.stack) < 1:\n",
    "            return None\n",
    "        return self.stack[-1]\n",
    "\n",
    "    def is_empty(self):\n",
    "        return len(self.stack) < 1\n"
   ]
  },
  {
   "cell_type": "code",
   "execution_count": 2,
   "id": "aa39dc39",
   "metadata": {},
   "outputs": [
    {
     "name": "stdout",
     "output_type": "stream",
     "text": [
      "3\n",
      "3\n",
      "2\n",
      "1\n",
      "True\n"
     ]
    }
   ],
   "source": [
    "# Create a new stack\n",
    "s = Stack()\n",
    "\n",
    "# Push items onto the stack\n",
    "s.push(1)\n",
    "s.push(2)\n",
    "s.push(3)\n",
    "\n",
    "# Peek at the top item on the stack\n",
    "print(s.peek())  # Output: 3\n",
    "\n",
    "# Pop items off the stack\n",
    "print(s.pop())   # Output: 3\n",
    "print(s.pop())   # Output: 2\n",
    "print(s.pop())   # Output: 1\n",
    "\n",
    "# Check if the stack is empty\n",
    "print(s.is_empty())  # Output: True\n"
   ]
  },
  {
   "cell_type": "markdown",
   "id": "c5962219",
   "metadata": {},
   "source": [
    "# Implementation of Stacks using Collections Module in Python"
   ]
  },
  {
   "cell_type": "code",
   "execution_count": 3,
   "id": "3d9251a7",
   "metadata": {},
   "outputs": [
    {
     "data": {
      "text/plain": [
       "1"
      ]
     },
     "execution_count": 3,
     "metadata": {},
     "output_type": "execute_result"
    }
   ],
   "source": [
    "from collections import deque\n",
    "stack = deque()\n",
    "stack.append(1)\n",
    "stack.append(2)\n",
    "stack.pop() #2\n",
    "stack.pop() #1\n"
   ]
  },
  {
   "cell_type": "code",
   "execution_count": null,
   "id": "4177d535",
   "metadata": {},
   "outputs": [],
   "source": []
  },
  {
   "cell_type": "code",
   "execution_count": null,
   "id": "1aa5c2f0",
   "metadata": {},
   "outputs": [],
   "source": []
  },
  {
   "cell_type": "code",
   "execution_count": null,
   "id": "2a3ada9f",
   "metadata": {},
   "outputs": [],
   "source": []
  },
  {
   "cell_type": "code",
   "execution_count": null,
   "id": "fd51ba91",
   "metadata": {},
   "outputs": [],
   "source": []
  }
 ],
 "metadata": {
  "kernelspec": {
   "display_name": "Python 3 (ipykernel)",
   "language": "python",
   "name": "python3"
  },
  "language_info": {
   "codemirror_mode": {
    "name": "ipython",
    "version": 3
   },
   "file_extension": ".py",
   "mimetype": "text/x-python",
   "name": "python",
   "nbconvert_exporter": "python",
   "pygments_lexer": "ipython3",
   "version": "3.9.0"
  }
 },
 "nbformat": 4,
 "nbformat_minor": 5
}
