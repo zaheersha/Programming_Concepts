{
 "cells": [
  {
   "cell_type": "markdown",
   "id": "bd4e171b",
   "metadata": {},
   "source": [
    "#  Bit Manipulation"
   ]
  },
  {
   "cell_type": "markdown",
   "id": "3fe4a441",
   "metadata": {},
   "source": [
    "# 1. Check Power of Two"
   ]
  },
  {
   "cell_type": "markdown",
   "id": "55bcdfdb",
   "metadata": {},
   "source": [
    "Given a number, check if it is a power of 2.\n",
    "\n",
    "Input Format\n",
    "\n",
    "First line of input contains T - number of test cases. Its followed by T lines, each line containing a single positive integer.\n",
    "\n",
    "Constraints\n",
    "\n",
    "1 <= T <= 10000\n",
    "1 <= N <= 1018\n",
    "\n",
    "Output Format\n",
    "\n",
    "For each test case, print \"True\" or \"False\", separated by new line.\n",
    "\n",
    "Sample Input 0\n",
    "\n",
    "5\n",
    "1\n",
    "8\n",
    "10\n",
    "25\n",
    "512\n",
    "Sample Output 0\n",
    "\n",
    "True\n",
    "True\n",
    "False\n",
    "False\n",
    "True"
   ]
  },
  {
   "cell_type": "code",
   "execution_count": null,
   "id": "15fcac9f",
   "metadata": {},
   "outputs": [],
   "source": [
    "def power(n):\n",
    "    if n&(n-1)==0:\n",
    "        print(\"True\")\n",
    "    else:\n",
    "        print(\"False\")\n",
    "#t=int(input())\n",
    "for i in range(t):\n",
    "    #n=int(input())\n",
    "    result=power(n)"
   ]
  },
  {
   "cell_type": "markdown",
   "id": "ba50ec3f",
   "metadata": {},
   "source": [
    "# "
   ]
  },
  {
   "cell_type": "markdown",
   "id": "34fb973f",
   "metadata": {},
   "source": [
    "# 3. Finding Missing Number"
   ]
  },
  {
   "cell_type": "markdown",
   "id": "6b7cb696",
   "metadata": {},
   "source": [
    "Given an array of size N, it contains all the numbers from 1 to N+1 inclusive, except one number. You have to find the missing number.\n",
    "\n",
    "Input Format\n",
    "\n",
    "First line of input contains T - number of test cases. Its followed by 2T lines, first line of each test case contains N - size of the array and the next line contains N integers - the elements of the array.\n",
    "\n",
    "Constraints\n",
    "\n",
    "1 <= T <= 500\n",
    "1 <= N <= 10000\n",
    "1 <= ar[i] <= N+1\n",
    "\n",
    "Output Format\n",
    "\n",
    "For each test case, print the missing number, separated by newline.\n",
    "\n",
    "Sample Input 0\n",
    "\n",
    "3\n",
    "8\n",
    "1 2 7 9 5 6 3 8 \n",
    "7\n",
    "3 5 8 1 4 7 2 \n",
    "10\n",
    "8 11 10 2 7 4 3 5 1 6 \n",
    "Sample Output 0\n",
    "\n",
    "4\n",
    "6\n",
    "9\n",
    "Explanation 0\n",
    "\n",
    "Test Case 1:\n",
    "Array Size=8: It should have all the elements between [1,9] exactly once, except one of them. Hence 4 is the missing element.\n",
    "\n",
    "Test Case 2:\n",
    "Array Size=7: It should have all the elements between [1,8] exactly once, except one of them. Hence 6 is the missing element."
   ]
  },
  {
   "cell_type": "code",
   "execution_count": null,
   "id": "8bebc6e0",
   "metadata": {},
   "outputs": [],
   "source": [
    "#t=int(input())\n",
    "for i in range(t):\n",
    "    #n=int(input())\n",
    "    #arr=list(map(int,input().split()))\n",
    "    s=0\n",
    "    for i in range(0,n):\n",
    "        s=s+arr[i]\n",
    "    s2=0\n",
    "    for i in range(1,n+2):\n",
    "        s2+=i\n",
    "    print(s2-s)\n",
    "    "
   ]
  },
  {
   "cell_type": "markdown",
   "id": "c0d2e00c",
   "metadata": {},
   "source": [
    "# "
   ]
  },
  {
   "cell_type": "markdown",
   "id": "0e3a6d2c",
   "metadata": {},
   "source": [
    "# 4. Count Set Bits"
   ]
  },
  {
   "cell_type": "markdown",
   "id": "5fc20172",
   "metadata": {},
   "source": [
    "Given a number N, find the number of bits that are set to 1 in its binary representation.\n",
    "\n",
    "Input Format\n",
    "\n",
    "First line of input contains T - the number of test cases. It is followed by T lines, each line contains a single integer N.\n",
    "\n",
    "Constraints\n",
    "\n",
    "1 <= T <= 104\n",
    "0 <= N <= 1018\n",
    "\n",
    "Output Format\n",
    "\n",
    "For each test case, print the number of bits set to 1 in the binary representation of N, separated by a new line.\n",
    "\n",
    "Sample Input 0\n",
    "\n",
    "3\n",
    "4\n",
    "15\n",
    "10\n",
    "Sample Output 0\n",
    "\n",
    "1\n",
    "4\n",
    "2\n",
    "Explanation 0\n",
    "\n",
    "Test-Case 1:\n",
    "The binary representation of 4 is 100. The number of 1's in the binary representation of 4 is 1.\n",
    "\n",
    "Test-Case 2:\n",
    "The binary representation of 15 is 1111. The number of 1's in the binary representation of 15 is 4."
   ]
  },
  {
   "cell_type": "code",
   "execution_count": null,
   "id": "b13d615b",
   "metadata": {},
   "outputs": [],
   "source": [
    "def setBits(n):\n",
    "    count=0\n",
    "    while n!=0:\n",
    "        count=count + (n&1)\n",
    "        n=n>>1\n",
    "    return count\n",
    "#t=int(input())\n",
    "for i in range(t):\n",
    "    #n=int(input())\n",
    "    print(setBits(n))"
   ]
  },
  {
   "cell_type": "markdown",
   "id": "d842cbfd",
   "metadata": {},
   "source": [
    "# "
   ]
  },
  {
   "cell_type": "markdown",
   "id": "aadca462",
   "metadata": {},
   "source": [
    "# 5. X 1s and Y 0s"
   ]
  },
  {
   "cell_type": "markdown",
   "id": "35a6cf9f",
   "metadata": {},
   "source": [
    "Given two numbers X and Y, find the number whose binary representation has X 1's followed by Y 0's.\n",
    "\n",
    "Input Format\n",
    "\n",
    "First line of input contains T - number of test cases. Its followed by T lines. Each subsequent line contains two integers separated by a space: X - the number of the 1's and Y - the number of 0's which follows the X 1's in the binary representation of the number.\n",
    "\n",
    "Constraints\n",
    "\n",
    "10 points\n",
    "1 <= T <= 100\n",
    "0 <= X, Y <= 15\n",
    "\n",
    "40 points\n",
    "1 <= T <= 105\n",
    "0 <= X, Y <= 105\n",
    "\n",
    "Output Format\n",
    "\n",
    "For each test case, print the number whose binary representation has X 1's and Y 0's, separated by a new line.\n",
    "Since this number can be very large, print the result % 1000000007.\n",
    "\n",
    "Sample Input 0\n",
    "\n",
    "3\n",
    "4 3\n",
    "2 5\n",
    "10 15\n",
    "Sample Output 0\n",
    "\n",
    "120\n",
    "96\n",
    "33521664\n",
    "Explanation 0\n",
    "\n",
    "Test Case 1\n",
    "The binary representation of the number that has 4 ones followed by 3 zeros is 1111000 = 120."
   ]
  },
  {
   "cell_type": "code",
   "execution_count": null,
   "id": "a4b9cbb3",
   "metadata": {},
   "outputs": [],
   "source": [
    "#t=int(input())\n",
    "for i in range(t):\n",
    "    #x,y=map(int,input().split())\n",
    "    result=(((1<<x)-1)<<y)\n",
    "    print(result%1000000007)"
   ]
  },
  {
   "cell_type": "markdown",
   "id": "3b823d71",
   "metadata": {},
   "source": [
    "# "
   ]
  },
  {
   "cell_type": "markdown",
   "id": "06f1018f",
   "metadata": {},
   "source": [
    "# 6. X and Y set bits"
   ]
  },
  {
   "cell_type": "markdown",
   "id": "b36240a1",
   "metadata": {},
   "source": [
    "Given two numbers X and Y, find the number whose binary representation has its Xth and Yth bits set to 1 and remaining bits set to 0.\n",
    "\n",
    "Input Format\n",
    "\n",
    "First line of input contains T - number of test cases. Its followed by T lines. Each subsequent line contains two integers: X - the index of the first set bit and Y - the index of the second set bit, separated by a space.\n",
    "\n",
    "Constraints\n",
    "\n",
    "10 points\n",
    "1 <= T <= 100\n",
    "0 <= X, Y <= 30\n",
    "\n",
    "40 points\n",
    "1 <= T <= 105\n",
    "0 <= X, Y <= 105\n",
    "\n",
    "Output Format\n",
    "\n",
    "For each test case, print the number whose binary representation has its Xth and Yth bits set to 1 and remaining bits set to zero, separated by a newline.\n",
    "Since this number can be very large, print the result % 1000000007.\n",
    "\n",
    "Sample Input 0\n",
    "\n",
    "3\n",
    "4 3\n",
    "5 0\n",
    "15 30\n",
    "Sample Output 0\n",
    "\n",
    "24\n",
    "33\n",
    "73774585\n",
    "Explanation 0\n",
    "\n",
    "Test Case 1\n",
    "The binary representation of the number that has bits at position 3 and 4 set is 11000 = 24\n",
    "\n",
    "Test Case 2\n",
    "The binary representation of the number that has the bit at position 5 and 0 set is 100001 = 33"
   ]
  },
  {
   "cell_type": "code",
   "execution_count": null,
   "id": "1f34ba07",
   "metadata": {},
   "outputs": [],
   "source": [
    "def setBits(x,y):\n",
    "    return (1<<x|1<<y)\n",
    "#t=int(input())\n",
    "for i in range(t):\n",
    "    #x,y=map(int,input().split())\n",
    "    M=1000000007\n",
    "    result=setBits(x,y)\n",
    "    print(result%M"
   ]
  },
  {
   "cell_type": "markdown",
   "id": "56f47e4e",
   "metadata": {},
   "source": [
    "# "
   ]
  },
  {
   "cell_type": "markdown",
   "id": "0daae76b",
   "metadata": {},
   "source": [
    "# 7. Flip Bits"
   ]
  },
  {
   "cell_type": "markdown",
   "id": "cf911cda",
   "metadata": {},
   "source": [
    "You are given two numbers A and B. Write a program to count the number of bits to be flipped to change the number A to the number B. Flipping a bit of a number means changing a bit from 1 to 0 or vice versa.\n",
    "\n",
    "Input Format\n",
    "\n",
    "First line of input contains T - number of test cases. Each of the next T lines contains 2 integer A and B, separated by space.\n",
    "\n",
    "Constraints\n",
    "\n",
    "1 <= T <= 100000\n",
    "0 <= N <= 109\n",
    "\n",
    "Output Format\n",
    "\n",
    "For each test case, print the number of bit flips required to convert A to B, separated by new line.\n",
    "\n",
    "Sample Input 0\n",
    "\n",
    "4\n",
    "20 10\n",
    "16 8\n",
    "1 153\n",
    "549 24\n",
    "Sample Output 0\n",
    "\n",
    "4\n",
    "2\n",
    "3\n",
    "6"
   ]
  },
  {
   "cell_type": "code",
   "execution_count": null,
   "id": "568b6b32",
   "metadata": {},
   "outputs": [],
   "source": [
    "\n",
    "#t=int(input())\n",
    "for i in range(t):\n",
    "    #a,b=map(int,input().split())\n",
    "    n=a^b\n",
    "    c=0\n",
    "    while(n!=0):\n",
    "        c+=n&1\n",
    "        n=n>>1\n",
    "    print(c)\n",
    "        "
   ]
  },
  {
   "cell_type": "markdown",
   "id": "11d06217",
   "metadata": {},
   "source": [
    "# "
   ]
  },
  {
   "cell_type": "markdown",
   "id": "d9c05604",
   "metadata": {},
   "source": [
    "# 8. Reverse Bits"
   ]
  },
  {
   "cell_type": "markdown",
   "id": "fcdbce4c",
   "metadata": {},
   "source": [
    "Given a number, reverse the bits in the binary representation (consider 32-bit unsigned data) of the number, and print the new number formed.\n",
    "\n",
    "Input Format\n",
    "\n",
    "First line of input contains T - number of test cases. Each of the next T lines contains a number integer N.\n",
    "\n",
    "Constraints\n",
    "\n",
    "1 <= T <= 100000\n",
    "0 <= N <= 109\n",
    "\n",
    "Output Format\n",
    "\n",
    "For each test case, print the new number formed after reversing the bits, separated by new line.\n",
    "\n",
    "Sample Input\n",
    "\n",
    "4\n",
    "4\n",
    "15\n",
    "6\n",
    "1000000000\n",
    "\n",
    "Sample Output\n",
    "\n",
    "536870912\n",
    "4026531840\n",
    "1610612736\n",
    "5462492\n",
    "\n",
    "Explanation\n",
    "\n",
    "Test Case 1\n",
    "\n",
    "Binary Representation of 4: 000...100\n",
    "After reversing the bits: 001...000 (536870912)\n",
    "\n",
    "Test Case 2\n",
    "\n",
    "Binary Representation of 15: 000...1111\n",
    "After reversing the bits: 1111...000 (4026531840)"
   ]
  },
  {
   "cell_type": "code",
   "execution_count": null,
   "id": "72a6186d",
   "metadata": {},
   "outputs": [],
   "source": [
    "#t=int(input())\n",
    "for i in range(t):\n",
    "    #n=int(input())\n",
    "    res=0\n",
    "    for i in range(32):\n",
    "        bit=(n>>i)&1\n",
    "        res = res | bit << (31-i)\n",
    "    print(res)"
   ]
  },
  {
   "cell_type": "markdown",
   "id": "ab1365c7",
   "metadata": {},
   "source": [
    "# "
   ]
  },
  {
   "cell_type": "markdown",
   "id": "f7c1c921",
   "metadata": {},
   "source": [
    "# 9. Swap Bits"
   ]
  },
  {
   "cell_type": "raw",
   "id": "27764e65",
   "metadata": {},
   "source": [
    "Given a number, swap the adjacent bits in the binary representation of the number, and print the new number formed after swapping.\n",
    "\n",
    "Input Format\n",
    "\n",
    "First line of input contains T - number of test cases. Each of the next T lines contains a number N.\n",
    "\n",
    "Constraints\n",
    "\n",
    "1 <= T <= 100000\n",
    "0 <= N <= 109\n",
    "\n",
    "Output Format\n",
    "\n",
    "For each test case, print the new integer formed after swapping adjacent bits, separated by new line.\n",
    "\n",
    "Sample Input\n",
    "\n",
    "4\n",
    "10\n",
    "7\n",
    "43\n",
    "100\n",
    "\n",
    "Sample Output\n",
    "\n",
    "5\n",
    "11\n",
    "23\n",
    "152\n",
    "\n",
    "Explanation\n",
    "\n",
    "Test Case 1\n",
    "\n",
    "Binary Representation of 10: 000...1010\n",
    "After swapping adjacent bits: 000...0101 (5)\n",
    "\n",
    "Test Case 2\n",
    "\n",
    "Binary Representation of 7: 000...0111\n",
    "After swapping adjacent bits: 000...1011 (11)"
   ]
  },
  {
   "cell_type": "code",
   "execution_count": null,
   "id": "50c13c26",
   "metadata": {},
   "outputs": [],
   "source": [
    "def func(n):\n",
    "    return((n&0xAAAAAAAA)>>1 | (n&0x55555555)<<1)\n",
    "#t=int(input())\n",
    "for i in range(t):\n",
    "    #n=int(input())\n",
    "    print(func(n))\n",
    "    "
   ]
  },
  {
   "cell_type": "markdown",
   "id": "99a7b1b7",
   "metadata": {},
   "source": [
    "# "
   ]
  },
  {
   "cell_type": "markdown",
   "id": "5ee3ae5a",
   "metadata": {},
   "source": [
    "# 10. Compute a power b"
   ]
  },
  {
   "cell_type": "raw",
   "id": "5935d2eb",
   "metadata": {},
   "source": [
    "# Given 2 numbers - a and b, evaluate ab.\n",
    "Note: Do not use any inbuilt functions/libraries for your main logic.\n",
    "\n",
    "Input Format\n",
    "\n",
    "First line of input contains T - number of test cases. Its followed by T lines, each line containing 2 numbers - a and b, separated by space.\n",
    "\n",
    "Constraints\n",
    "\n",
    "30 points\n",
    "1 <= T <= 1000\n",
    "0 <= a <= 106\n",
    "0 <= b <= 103\n",
    "\n",
    "70 points\n",
    "1 <= T <= 1000\n",
    "0 <= a <= 106\n",
    "0 <= b <= 109\n",
    "\n",
    "Output Format\n",
    "\n",
    "For each test case, print ab, separated by new line. Since the result can be very large, print result % 1000000007\n",
    "\n",
    "Sample Input 0\n",
    "\n",
    "4\n",
    "5 2\n",
    "1 10\n",
    "2 30\n",
    "10 10\n",
    "Sample Output 0\n",
    "\n",
    "25\n",
    "1\n",
    "73741817\n",
    "999999937\n",
    "Explanation 0\n",
    "\n",
    "Self Explanatory"
   ]
  },
  {
   "cell_type": "code",
   "execution_count": null,
   "id": "6d1b1ede",
   "metadata": {},
   "outputs": [],
   "source": [
    "def pwr(a,b):\n",
    "    if b==0:\n",
    "        return 1\n",
    "    if b%2==0:\n",
    "        return (pwr(a,b//2)**2)%1000000007\n",
    "    return (a*pwr(a,b//2)**2)%1000000007\n",
    "#for _ in range(int(input())):\n",
    "    #a,b=map(int,input().split())\n",
    "    res=pwr(a,b)\n",
    "    print(res)"
   ]
  },
  {
   "cell_type": "markdown",
   "id": "c7b5b36b",
   "metadata": {},
   "source": [
    "# "
   ]
  },
  {
   "cell_type": "markdown",
   "id": "a2925100",
   "metadata": {},
   "source": [
    "# 11. XOR of Sum of Pairs"
   ]
  },
  {
   "cell_type": "raw",
   "id": "3597133f",
   "metadata": {},
   "source": [
    "You are given an array of integers. Find the XOR of sum of all pairs formed by the elements of the array.\n",
    "\n",
    "Input Format\n",
    "\n",
    "First line of input contains T - the number of test cases. Its followed by 2T lines, the first line contains N - the size of the array. The second line contains the elements of the array.\n",
    "\n",
    "Constraints\n",
    "\n",
    "10 points\n",
    "1 <= T <= 100\n",
    "1 <= N <= 1000\n",
    "0 <= A[i] <= 105\n",
    "\n",
    "40 points\n",
    "1 <= T <= 100\n",
    "1 <= N <= 105\n",
    "0 <= A[i] <= 105\n",
    "\n",
    "Output Format\n",
    "\n",
    "For each test case, print the XOR of sum of all pairs formed by the elements of the array, separated by a newline.\n",
    "\n",
    "Sample Input 0\n",
    "\n",
    "2\n",
    "5\n",
    "4 10 54 11 8 \n",
    "6\n",
    "15 35 25 10 15 12 \n",
    "Sample Output 0\n",
    "\n",
    "118\n",
    "120\n",
    "Explanation 0\n",
    "\n",
    "Test Case 1\n",
    "All the pairwise sums formed with 4 are (4 + 4), (4 + 10), (4 + 54), (4 + 11), (4 + 8) = 8, 14, 58, 15, 12\n",
    "All the pairwise sums formed with 10 are (10 + 4), (10 + 10), (10 + 54), (10 + 11), (10 + 8) = 14, 20, 64, 21, 18\n",
    "All the pairwise sums formed with 54 are (54 + 4), (54 + 10), (54 + 54), (54 + 11), (54 + 8) = 58, 64, 108, 65, 62\n",
    "All the pairwise sums formed with 11 are (11 + 4), (11 + 10), (11 + 54), (11 + 11), (11 + 8) = 15, 21, 65, 22, 19\n",
    "All the pairwise sums formed with 8 are (8 + 4), (8 + 10), (8 + 54), (8 + 11), (8 + 8) = 12, 18, 62, 19, 16\n",
    "\n",
    "XOR of all the above sums = (8 ^ 14 ^ 58 ^ 15 ^ 12) ^ (14 ^ 20 ^ 64 ^ 21 ^ 18) ^ (58 ^ 64 ^ 108 ^ 65 ^ 62) ^ (15 ^ 21 ^ 65 ^ 22 ^ 19) ^ (12 ^ 18 ^ 62 ^ 19 ^ 16) = 118"
   ]
  },
  {
   "cell_type": "code",
   "execution_count": null,
   "id": "e2b773c2",
   "metadata": {},
   "outputs": [],
   "source": [
    "def findXor(arr,n):\n",
    " \n",
    "    ans = 0;\n",
    "    for i in range (0, n ) :\n",
    "        ans = ans ^ arr[i]\n",
    "   \n",
    "    return ans * 2\n",
    "for i in range(int(input())):\n",
    "    #n=int(input())\n",
    "    #arr=list(map(int,input().split()))\n",
    "    print(findXor(arr,n))\n",
    "            \n",
    "    "
   ]
  },
  {
   "cell_type": "markdown",
   "id": "7ae737d7",
   "metadata": {},
   "source": [
    "# "
   ]
  },
  {
   "cell_type": "markdown",
   "id": "242e5354",
   "metadata": {},
   "source": [
    "# 12. Towers of Hanoi"
   ]
  },
  {
   "cell_type": "raw",
   "id": "12b7872c",
   "metadata": {},
   "source": [
    "The Tower of Hanoi (also called the Tower of Brahma or Lucas') is a mathematical game or puzzle. It consists of three rods, and a number of disks of different sizes which can slide onto any rod. The puzzle starts with the disks in a neat stack in ascending order of size on one rod, the smallest at the top, thus making a conical shape.\n",
    "\n",
    "The objective of the puzzle is to move the entire stack to another rod, obeying the following simple rules:\n",
    "Only one disk can be moved at a time.\n",
    "Each move consists of taking the upper disk from one of the stacks and placing it on top of another stack i.e. a disk can only be moved if it is the uppermost disk on a stack.\n",
    "No disk may be placed on top of a smaller disk.\n",
    "Your task is that given N disks, print the minimum number of moves required in order to solve the problem, followed by the actual moves.\n",
    "\n",
    "Assumptions\n",
    "1. The rods are named A, B and C.\n",
    "2. All the disks are initially placed on rod A.\n",
    "3. You have to move all the disks from rod A to rod C.\n",
    "\n",
    "Input Format\n",
    "\n",
    "First line of input contains T - number of test cases. Its followed by T lines, each line containing a single number denoting the number of disks.\n",
    "\n",
    "Constraints\n",
    "\n",
    "1 <= T <= 10\n",
    "1 <= N <= 15\n",
    "\n",
    "Output Format\n",
    "\n",
    "For each test case, print the minimum number of moves required in order to solve the problem, followed by the actual moves, separated by newline. Refer sample output for more details.\n",
    "\n",
    "Sample Input 0\n",
    "\n",
    "2\n",
    "1\n",
    "3\n",
    "Sample Output 0\n",
    "\n",
    "1\n",
    "Move 1 from A to C\n",
    "7\n",
    "Move 1 from A to C\n",
    "Move 2 from A to B\n",
    "Move 1 from C to B\n",
    "Move 3 from A to C\n",
    "Move 1 from B to A\n",
    "Move 2 from B to C\n",
    "Move 1 from A to C"
   ]
  },
  {
   "cell_type": "code",
   "execution_count": null,
   "id": "6ee3ea8b",
   "metadata": {},
   "outputs": [],
   "source": [
    "def TOH(n,src,temp,des):\n",
    "    if n==0:\n",
    "        return\n",
    "    TOH(n-1,src,des,temp)\n",
    "    print(\"Move\" ,n, \"from\", src ,\"to\" ,des)\n",
    "    TOH(n-1,temp,src,des)\n",
    "\n",
    "\n",
    "\n",
    "#t=int(input())\n",
    "for i in range(t):\n",
    "    #n=int(input())\n",
    "    print((2**n)-1)\n",
    "    src=\"A\"\n",
    "    des=\"C\"\n",
    "    temp=\"B\"\n",
    "    TOH(n,src,temp,des)"
   ]
  }
 ],
 "metadata": {
  "kernelspec": {
   "display_name": "Python 3 (ipykernel)",
   "language": "python",
   "name": "python3"
  },
  "language_info": {
   "codemirror_mode": {
    "name": "ipython",
    "version": 3
   },
   "file_extension": ".py",
   "mimetype": "text/x-python",
   "name": "python",
   "nbconvert_exporter": "python",
   "pygments_lexer": "ipython3",
   "version": "3.9.0"
  }
 },
 "nbformat": 4,
 "nbformat_minor": 5
}
