{
 "cells": [
  {
   "cell_type": "markdown",
   "id": "36742e63",
   "metadata": {},
   "source": [
    "# Strings"
   ]
  },
  {
   "cell_type": "markdown",
   "id": "3e7c2d70",
   "metadata": {},
   "source": [
    "# "
   ]
  },
  {
   "cell_type": "markdown",
   "id": "1b2f1314",
   "metadata": {},
   "source": [
    "#  1. Palindrome String\n",
    "\n",
    "Input 1:\n",
    "\"A man, a plan, a canal: Panama\"\n",
    "\n",
    "Input 2:\n",
    "\"race a car\"\n",
    "\n",
    "Output 1:\n",
    "1\n",
    "Output 2:\n",
    "0\n",
    "\n",
    "Explanation 1:\n",
    "\n",
    "The input string after ignoring spaces, and all special characters is \"AmanaplanacanalPanama\" \n",
    "which is a palindrome after ignoring the case.\n",
    "\n",
    "Explanation 2:\n",
    "The input string after ignoring spaces, and all special characters is \"raceacar\" which is not a palindrome"
   ]
  },
  {
   "cell_type": "code",
   "execution_count": 1,
   "id": "00c08609",
   "metadata": {},
   "outputs": [],
   "source": [
    "    def isPalindrome( A):\n",
    "        new_str = \"\"\n",
    "        for i in A:\n",
    "            if i.isalnum():\n",
    "                new_str += i.lower()\n",
    "        if new_str==new_str[::-1]:\n",
    "            return 1\n",
    "        else:\n",
    "            return 0"
   ]
  },
  {
   "cell_type": "markdown",
   "id": "38374d2a",
   "metadata": {},
   "source": [
    "# \n"
   ]
  },
  {
   "cell_type": "markdown",
   "id": "5147f8bd",
   "metadata": {},
   "source": [
    "# 2. String And Its Frequency\n",
    "\n",
    "Input 1:\n",
    "abbhuabcfghh\n",
    "\n",
    "Input 2:\n",
    "a\n",
    "\n",
    "Ouput 1:\n",
    "a2b3h3u1c1f1g1\n",
    "\n",
    "Ouput 2:\n",
    "a1"
   ]
  },
  {
   "cell_type": "code",
   "execution_count": 2,
   "id": "4b17a83f",
   "metadata": {},
   "outputs": [],
   "source": [
    "    def solve( A):\n",
    "        h={}\n",
    "        for i in A:\n",
    "            if i in h:\n",
    "                h[i]+=1\n",
    "            else:\n",
    "                h[i]=1\n",
    "        str1=''\n",
    "        for key,value in h.items():\n",
    "            str1+= key + str(value)\n",
    "        return st"
   ]
  },
  {
   "cell_type": "markdown",
   "id": "b6b2fd14",
   "metadata": {},
   "source": [
    "# "
   ]
  },
  {
   "cell_type": "markdown",
   "id": "c66e864e",
   "metadata": {},
   "source": [
    "# 3. Reverse the String\n",
    "\n",
    "Input 1:\n",
    "    A = \"the sky is blue\"\n",
    "    \n",
    "Input 2:\n",
    "    A = \"this is ib\"\n",
    "\n",
    "\n",
    "Output 1:\n",
    "    \"blue is sky the\"\n",
    "    \n",
    "Output 2:\n",
    "    \"ib is this\""
   ]
  },
  {
   "cell_type": "code",
   "execution_count": 3,
   "id": "fe1926b4",
   "metadata": {},
   "outputs": [],
   "source": [
    "    def solve(self, A):\n",
    "        A=list(A.split())\n",
    "        li=[]\n",
    "        for i in range(len(A)-1,-1,-1):\n",
    "            li.append(A[i])\n",
    "        return \" \".join(li)"
   ]
  },
  {
   "cell_type": "markdown",
   "id": "71490cd0",
   "metadata": {},
   "source": [
    "# "
   ]
  },
  {
   "cell_type": "markdown",
   "id": "b4864c53",
   "metadata": {},
   "source": [
    "# 4. Character Frequencies\n",
    "Input 1:\n",
    "A = \"interviewbit\"\n",
    "Input 2:\n",
    "\n",
    "A = \"scaler\"\n",
    "\n",
    "Output 1:\n",
    "[3, 1, 2, 2, 1, 1, 1, 1]\n",
    "Output 2:\n",
    "\n",
    "[1, 1, 1, 1, 1, 1]\n",
    "\n",
    "Explanation 1:\n",
    "Characters in their order of occurence and frequecies are {'i', 3}, {'n', 1}, {'t', 2}, {'e', 2}, {'r', 1}, {'v', 1}, {'w', 1}, {'b', 1}.\n",
    "Explanation 2:\n",
    "\n",
    "Characters in their order of occurence and frequecies are {'s', 1}, {'c', 1}, {'a', 1}, {'l', 1}, {'e', 1}, {'r', 1}."
   ]
  },
  {
   "cell_type": "code",
   "execution_count": 4,
   "id": "389dd3b8",
   "metadata": {},
   "outputs": [],
   "source": [
    "    def solve(self, A):\n",
    "        h={}\n",
    "        for i in A:\n",
    "            if i in h:\n",
    "                h[i]+=1\n",
    "            else:\n",
    "                h[i]=1\n",
    "        \n",
    "        for i in A:\n",
    "            return list(h.values())"
   ]
  },
  {
   "cell_type": "markdown",
   "id": "f764630e",
   "metadata": {},
   "source": [
    "# "
   ]
  },
  {
   "cell_type": "markdown",
   "id": "8b5026e6",
   "metadata": {},
   "source": [
    "# 5. Palindromic Words\n",
    "\n",
    "Input 1:\n",
    "A = \"the fastest racecar\"\n",
    "Input 2:\n",
    "\n",
    "A = \"wow mom\"\n",
    "\n",
    "\n",
    "Example Output\n",
    "Output 1:\n",
    "1\n",
    "Output 2:\n",
    "\n",
    "2\n",
    "\n",
    "\n",
    "Example Explanation\n",
    "Explanation 1:\n",
    "The word \"racecar\" is only a palindromic word in the sentence \"the fastest racecar\".\n",
    "Explanation 2:\n",
    "\n",
    "The words \"wow\" and \"mom\" both are palindromic word in the sentence \"wow mom\"."
   ]
  },
  {
   "cell_type": "code",
   "execution_count": 5,
   "id": "d7cbe5ef",
   "metadata": {},
   "outputs": [],
   "source": [
    "    def solve(self, A):\n",
    "        arr=list(A.split())\n",
    "        count=0\n",
    "        for i in range(len(arr)):\n",
    "            if str(arr[i])==str(arr[i][::-1]):\n",
    "                count+=1\n",
    "        return count\n",
    "                "
   ]
  },
  {
   "cell_type": "markdown",
   "id": "4885366b",
   "metadata": {},
   "source": [
    "# "
   ]
  },
  {
   "cell_type": "markdown",
   "id": "95a7f8a8",
   "metadata": {},
   "source": [
    "# 6. String Inversion\n",
    "Input 1:\n",
    "A = 6 = \"InterviewBit\"\n",
    "\n",
    "Input 2:\n",
    "\n",
    "A = \"Scaler\"\n",
    "\n",
    "\n",
    "Example Output\n",
    "\n",
    "Output 1:\n",
    "\"iNTERVIEWbIT\"\n",
    "\n",
    "Output 2:\n",
    "\n",
    "\"sCALER\"\n"
   ]
  },
  {
   "cell_type": "code",
   "execution_count": 6,
   "id": "9c800cbf",
   "metadata": {},
   "outputs": [],
   "source": [
    "    def solve(self, A):\n",
    "        return A.swapcase()\n"
   ]
  },
  {
   "cell_type": "code",
   "execution_count": 7,
   "id": "12643a7a",
   "metadata": {},
   "outputs": [
    {
     "name": "stdout",
     "output_type": "stream",
     "text": [
      "hELLO wORLD\n"
     ]
    }
   ],
   "source": [
    "def invert_case(string):\n",
    "    result = \"\"\n",
    "    for char in string:\n",
    "        if char.isupper():\n",
    "            result += char.lower()\n",
    "        else:\n",
    "            result += char.upper()\n",
    "    return result\n",
    "\n",
    "print(invert_case(\"Hello World\"))\n"
   ]
  },
  {
   "cell_type": "markdown",
   "id": "47e57957",
   "metadata": {},
   "source": [
    "# "
   ]
  },
  {
   "cell_type": "markdown",
   "id": "6144d116",
   "metadata": {},
   "source": [
    "# 7. Valid Password\n",
    "\n",
    "Given a password as a character array A.\n",
    "Check if it is valid or not.\n",
    "Password should have at least one numerical digit(0-9).\n",
    "Password's length should be in between 8 to 15 characters.\n",
    "Password should have at least one lowercase letter(a-z).\n",
    "Password should have at least one uppercase letter(A-Z).\n",
    "Password should have at least one special character ( @, #, %, &, !, $, *).\n",
    "\n",
    "Input 1:\n",
    "\n",
    "A = ['S', 'c', 'a', 'l', 'e', 'r', '@', '1']\n",
    "\n",
    "Input 2:\n",
    "\n",
    "A = ['I', 'n', 't', 'e', 'r', 'v', 'i', 'e', 'w', 'B', 'i', 't']\n",
    "\n",
    "\n",
    "Output 1:\n",
    "1\n",
    "\n",
    "Output 2:\n",
    "\n",
    "0"
   ]
  },
  {
   "cell_type": "code",
   "execution_count": 8,
   "id": "51fdeb85",
   "metadata": {},
   "outputs": [],
   "source": [
    "    def solve(self, A):\n",
    "        if len(A) < 8 or len(A) > 15:\n",
    "            return 0\n",
    "        if not any(i.isdigit() for i in A):\n",
    "            return 0\n",
    "        if not any(i.islower() for i in A):\n",
    "            return 0\n",
    "        if not any(i.isupper() for i in A):\n",
    "            return 0\n",
    "        if not any(i in \"@#$%&!*$\" for i in A ):\n",
    "            return 0\n",
    "        return 1\n",
    "    "
   ]
  },
  {
   "cell_type": "markdown",
   "id": "bf891aa8",
   "metadata": {},
   "source": [
    "# "
   ]
  },
  {
   "cell_type": "markdown",
   "id": "2bb0337d",
   "metadata": {},
   "source": [
    "# 10 . Find First Repeating Character\n",
    "\n",
    "Given a string of characters, find the first repeating character.\n",
    "\n",
    "Output Format\n",
    "\n",
    "For each test case, print the first repeating character, separated by newline. If there are none, print '.'.\n",
    "\n",
    "Sample Input 0\n",
    "\n",
    "4\n",
    "\n",
    "datastructures\n",
    "\n",
    "algorithms\n",
    "\n",
    "smartinterviews\n",
    "\n",
    "hackerrank\n",
    "\n",
    "Sample Output 0\n",
    "\n",
    "a\n",
    ".\n",
    "s\n",
    "a\n",
    "\n"
   ]
  },
  {
   "cell_type": "code",
   "execution_count": 9,
   "id": "fb841444",
   "metadata": {},
   "outputs": [
    {
     "data": {
      "text/plain": [
       "'t=int(input())\\nfor i in range(t):\\n    str=input()\\n    print(find_first_repeating_char(str))'"
      ]
     },
     "execution_count": 9,
     "metadata": {},
     "output_type": "execute_result"
    }
   ],
   "source": [
    "def find_first_repeating_char(string):\n",
    "  # Initialize a dictionary to store the count of each character\n",
    "  char_counts = {}\n",
    "  \n",
    "  # Iterate through the string, incrementing the count of each character in the dictionary\n",
    "  for c in string:\n",
    "    if c in char_counts:\n",
    "      char_counts[c] += 1\n",
    "    else:\n",
    "      char_counts[c] = 1\n",
    "  \n",
    "  # Iterate through the string again, looking for the first character with a count greater than 1\n",
    "  for c in string:\n",
    "    if char_counts[c] > 1:\n",
    "      return c\n",
    "  \n",
    "  # If no repeating characters are found, return '.'\n",
    "  return '.'\n",
    "\n",
    "'''t=int(input())\n",
    "for i in range(t):\n",
    "    str=input()\n",
    "    print(find_first_repeating_char(str))'''"
   ]
  },
  {
   "cell_type": "markdown",
   "id": "18502e7a",
   "metadata": {},
   "source": [
    "# "
   ]
  },
  {
   "cell_type": "markdown",
   "id": "c196f0ba",
   "metadata": {},
   "source": [
    "# 11. Find First Repeating Character - Variation\n",
    "\n",
    "Given a string of characters, find the first repeating character.\n",
    "\n",
    "Sample Input 0\n",
    "\n",
    "4\n",
    "datastructures\n",
    "\n",
    "algorithms\n",
    "\n",
    "smartinterviews\n",
    "\n",
    "hackerrank\n",
    "\n",
    "Sample Output 0\n",
    "\n",
    "\n",
    "a\n",
    ".\n",
    "t\n",
    "r"
   ]
  },
  {
   "cell_type": "code",
   "execution_count": 10,
   "id": "f404b7c6",
   "metadata": {},
   "outputs": [
    {
     "data": {
      "text/plain": [
       "'t=int(input())\\nfor i in range(t):\\n    str=input()\\n    print(func(str))'"
      ]
     },
     "execution_count": 10,
     "metadata": {},
     "output_type": "execute_result"
    }
   ],
   "source": [
    "def func(str):\n",
    " \n",
    "    h = {} \n",
    " \n",
    "    for ch in str:\n",
    " \n",
    "        if ch in h:\n",
    "            return ch;\n",
    " \n",
    "        else:\n",
    "            h[ch] = 0\n",
    " \n",
    "    return '.'\n",
    "'''t=int(input())\n",
    "for i in range(t):\n",
    "    str=input()\n",
    "    print(func(str))'''"
   ]
  },
  {
   "cell_type": "markdown",
   "id": "fffb112c",
   "metadata": {},
   "source": [
    "# "
   ]
  },
  {
   "cell_type": "markdown",
   "id": "01e7db26",
   "metadata": {},
   "source": [
    "# 12. Words, Vowels and Consonants\n",
    "\n",
    "Given a sentence containing only uppercase/lowercase english alphabets and spaces, you have to count the number of words, vowels and consonants.\n",
    "\n",
    "Sample Input 0\n",
    "\n",
    "4\n",
    "\n",
    "Hi\n",
    "\n",
    "Hello World\n",
    "\n",
    "  Exception  \n",
    "  \n",
    "Hi there\n",
    "\n",
    "Sample Output 0\n",
    "\n",
    "words , vowels , consonants\n",
    "1 1 1\n",
    "\n",
    "2 3 7\n",
    "\n",
    "1 4 5\n",
    "\n",
    "2 3 4\n",
    "\n",
    "\n",
    "\n"
   ]
  },
  {
   "cell_type": "code",
   "execution_count": 11,
   "id": "a5f6d241",
   "metadata": {},
   "outputs": [],
   "source": [
    "def count_vowels_consonants_words(str):\n",
    "    v=0\n",
    "    c=0\n",
    "    w=len(str.split())\n",
    "    for i in str:\n",
    "        if i.isalpha():\n",
    "            if i in 'aeiouAEIOU':\n",
    "                if i in str:\n",
    "                    v=v+1\n",
    "            else:\n",
    "                    c=c+1\n",
    "    print(w,v,c)\n",
    "\n",
    "\n"
   ]
  },
  {
   "cell_type": "markdown",
   "id": "93f320bc",
   "metadata": {},
   "source": [
    "# "
   ]
  },
  {
   "cell_type": "markdown",
   "id": "cceb17ee",
   "metadata": {},
   "source": [
    "# 13. Anagrams easy\n",
    "Given 2 strings, check if they are anagrams. An anagram is a rearrangement of the letters of one word to form another word. In other words, some permutation of string A must be same as string B\n",
    "\n",
    "Sample Input 0\n",
    "\n",
    "4\n",
    "\n",
    "a a\n",
    "\n",
    "b h\n",
    "\n",
    "stop post\n",
    "\n",
    "hi hey\n",
    "\n",
    "Sample Output 0\n",
    "\n",
    "True\n",
    "\n",
    "False\n",
    "\n",
    "True\n",
    "\n",
    "False"
   ]
  },
  {
   "cell_type": "code",
   "execution_count": 12,
   "id": "e60b4dbd",
   "metadata": {},
   "outputs": [],
   "source": [
    "def anagram(str1,str2):\n",
    "    if sorted(str1)==sorted(str2):\n",
    "        return True\n",
    "    else:\n",
    "        return Fals"
   ]
  },
  {
   "cell_type": "markdown",
   "id": "fb987bd0",
   "metadata": {},
   "source": [
    "# "
   ]
  },
  {
   "cell_type": "markdown",
   "id": "851a905f",
   "metadata": {},
   "source": [
    "# 14. Number of Anagramic Groups\n",
    "\n",
    "You are given N strings of length M, count the number of anagramic groups. An anagramic group is a list of strings which are anagrams of each other.\n",
    "\n",
    "2\n",
    "\n",
    "5 4\n",
    "\n",
    "arts\n",
    "\n",
    "rank\n",
    "\n",
    "star\n",
    "\n",
    "rant\n",
    "\n",
    "rats\n",
    "\n",
    "Output\n",
    "\n",
    "3\n",
    "\n",
    "Test-Case 1\n",
    "The strings \"arts\", \"star\" and \"rats\" can be grouped together because they are anagrams of each other. The total number of such groups is 3 and the groups are {\"arts\", \"rats\", \"star\"}, {\"rant\"} and {\"rank\"}."
   ]
  },
  {
   "cell_type": "code",
   "execution_count": 13,
   "id": "5ccf4e3a",
   "metadata": {},
   "outputs": [],
   "source": [
    "def func(li):\n",
    "    groups = set()\n",
    "    for s in li:\n",
    "        groups.add(''.join(sorted(s)))\n",
    "    return len(groups)\n"
   ]
  },
  {
   "cell_type": "markdown",
   "id": "d13e0b82",
   "metadata": {},
   "source": [
    "# "
   ]
  },
  {
   "cell_type": "markdown",
   "id": "d9a5dc4d",
   "metadata": {},
   "source": [
    "# 15 . Rearrange Sequence 1\n",
    "\n",
    "You are given an array of size N containing unique integers. Find the size of the largest subarray that can be rearranged to form a contiguous sequence.\n",
    "A contiguous sequence means that the difference of adjacent elements should be 1.\n",
    "\n",
    "Sample Input 0\n",
    "\n",
    "2\n",
    "\n",
    "5\n",
    "\n",
    "1 3 2 6 5\n",
    "\n",
    "9\n",
    "\n",
    "0 8 6 5 7 10 3 2 1\n",
    "\n",
    "Sample Output 0\n",
    "\n",
    "\n",
    "3\n",
    "4\n",
    "Explanation 0\n",
    "\n",
    "\n",
    "Test-Case 1\n",
    "The largest subarray which can be rearranged to form a continguous sequence is [1, 3, 2], which can be rearranged to form [1, 2, 3].\n",
    "\n",
    "Test-Case 2\n",
    "The largest subarray which can be rearranged to form a continguous sequence is [8, 6, 5, 7], which can be rearranged to form [5, 6, 7, 8]."
   ]
  },
  {
   "cell_type": "code",
   "execution_count": 14,
   "id": "90da936d",
   "metadata": {},
   "outputs": [],
   "source": [
    "def func(arr,n):\n",
    "    ans=0\n",
    "    for i in range(0,n):\n",
    "        a=arr[i]\n",
    "        b=arr[i]\n",
    "        for j in range(i,n):\n",
    "            a=min(a,arr[j])\n",
    "            b=max(b,arr[j])\n",
    "            if (b-a==j-i):\n",
    "                ans=max(ans,j-i+1)\n",
    "    return ans\n"
   ]
  },
  {
   "cell_type": "code",
   "execution_count": null,
   "id": "cd66085a",
   "metadata": {},
   "outputs": [],
   "source": []
  }
 ],
 "metadata": {
  "kernelspec": {
   "display_name": "Python 3 (ipykernel)",
   "language": "python",
   "name": "python3"
  },
  "language_info": {
   "codemirror_mode": {
    "name": "ipython",
    "version": 3
   },
   "file_extension": ".py",
   "mimetype": "text/x-python",
   "name": "python",
   "nbconvert_exporter": "python",
   "pygments_lexer": "ipython3",
   "version": "3.9.0"
  }
 },
 "nbformat": 4,
 "nbformat_minor": 5
}
