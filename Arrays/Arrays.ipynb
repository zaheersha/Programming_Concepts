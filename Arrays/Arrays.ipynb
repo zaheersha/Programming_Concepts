{
 "cells": [
  {
   "cell_type": "markdown",
   "id": "146e567c",
   "metadata": {},
   "source": [
    "# ARRAYS"
   ]
  },
  {
   "cell_type": "markdown",
   "id": "71d88d01",
   "metadata": {},
   "source": [
    "# 1. Merge two sorted arrays using 2 pointer Technique"
   ]
  },
  {
   "cell_type": "code",
   "execution_count": 2,
   "id": "c7730cbe",
   "metadata": {},
   "outputs": [],
   "source": [
    "def merge(self,list1, list2):\n",
    "\n",
    "    i = 0\n",
    "    j = 0\n",
    "   \n",
    "    while i < len(list1) and j < len(list2):\n",
    "    # if the current element in list1 is greater than the current element in list2\n",
    "        if list1[i] > list2[j]:\n",
    "        # insert the current element from list2 into list1\n",
    "            list1.insert(i, list2[j])\n",
    "            # increment the pointer for list2\n",
    "            j += 1\n",
    "        # increment the pointer for list1\n",
    "        i += 1\n",
    "    # add any remaining elements from list2 to list1\n",
    "    list1.extend(list2[j:])\n",
    "    return list1\n"
   ]
  },
  {
   "cell_type": "markdown",
   "id": "dc5b2baa",
   "metadata": {},
   "source": [
    "# Output\n",
    "arr1=[1,5,8] , arr2=[6,9]\n",
    "o/p: [1,5,6,8,9]"
   ]
  },
  {
   "cell_type": "markdown",
   "id": "850505b1",
   "metadata": {},
   "source": [
    "# 2. Remove Duplicate Elements in A Sorted array"
   ]
  },
  {
   "cell_type": "code",
   "execution_count": 4,
   "id": "92207f75",
   "metadata": {},
   "outputs": [],
   "source": [
    "def removeDuplicates(self, A):\n",
    "        if not A:\n",
    "            return 0\n",
    "        i = 0\n",
    "        for j in range(1, len(A)):\n",
    "            if A[j] != A[i]:\n",
    "                i += 1\n",
    "                A[i] = A[j]\n",
    "        return i + 1"
   ]
  },
  {
   "cell_type": "markdown",
   "id": "9d3765fc",
   "metadata": {},
   "source": [
    "# Output\n",
    "i/P: [1,2,2]\n",
    "o/p: [1,2]"
   ]
  },
  {
   "cell_type": "markdown",
   "id": "07011e48",
   "metadata": {},
   "source": [
    "# 3. Remove Element from Array\n",
    "# Given array A and value B , remove all instances of B in Array A and return count of remaining elements.\n",
    "# Ex : A=[1,2,3,1,4] , B= 1 , O/P: [2,3,4] return count of those remaining elements i.e 3"
   ]
  },
  {
   "cell_type": "code",
   "execution_count": 6,
   "id": "233b7740",
   "metadata": {},
   "outputs": [],
   "source": [
    "def removeElement(self, A, B):\n",
    "        c=0\n",
    "        for i in range(len(A)):\n",
    "            if A[i]!=B:\n",
    "                A[c] = A[i] #A[0]=2\n",
    "                c+=1        #c+=1 .. c=0+1 = 1\n",
    "        return c            # return c or len(A)\n",
    "  "
   ]
  },
  {
   "cell_type": "markdown",
   "id": "4396a7cc",
   "metadata": {},
   "source": [
    "# 4. Occurance of Each Charecter"
   ]
  },
  {
   "cell_type": "code",
   "execution_count": 1,
   "id": "0fe7ff8d",
   "metadata": {},
   "outputs": [],
   "source": [
    "def findOccurences(self, A):\n",
    "        A.sort()\n",
    "        freq = {}\n",
    "        for i in A:\n",
    "            if (i in freq):\n",
    "                freq[i] += 1\n",
    "            else:\n",
    "                freq[i] = 1\n",
    "                \n",
    "        return list(freq.values())\n",
    "            "
   ]
  },
  {
   "cell_type": "markdown",
   "id": "6c0ab4e6",
   "metadata": {},
   "source": [
    "# Output\n",
    " Example Input\n",
    "Input 1:\n",
    "A = [1, 2, 3]\n",
    "\n",
    "Example Output\n",
    " Output 1:\n",
    " [1, 1, 1]\n"
   ]
  },
  {
   "cell_type": "markdown",
   "id": "a105a640",
   "metadata": {},
   "source": [
    "# 5. Move Zeroes\n",
    "Input 1:\n",
    "A = [0, 1, 0, 3, 12]\n",
    "\n",
    "Ouput 1:\n",
    "[1, 3, 12, 0, 0]"
   ]
  },
  {
   "cell_type": "code",
   "execution_count": 2,
   "id": "19c28d83",
   "metadata": {},
   "outputs": [],
   "source": [
    "    def solve(self, A):\n",
    "        arr=[]\n",
    "        c=0\n",
    "        n=len(A)\n",
    "        for i in range(0,n):\n",
    "            if A[i] == 0:\n",
    "                c=c+1\n",
    "            else:\n",
    "                arr.append(A[i])\n",
    "        for i in range(0,c):\n",
    "            arr.append(0)\n",
    "        return arr"
   ]
  },
  {
   "cell_type": "markdown",
   "id": "d5fd5987",
   "metadata": {},
   "source": [
    "# 6. Segregate 0s and 1s in an array\n",
    "Input :\n",
    "a=[0 1 0]\n",
    "\n",
    "Ouput :\n",
    "[0 0 1]"
   ]
  },
  {
   "cell_type": "code",
   "execution_count": 3,
   "id": "5967dd5d",
   "metadata": {},
   "outputs": [],
   "source": [
    "    def solve(self, A):\n",
    "        n=len(A)\n",
    "        c=0\n",
    "        li=[]\n",
    "        for i in range(0,n):\n",
    "            if A[i]==0:\n",
    "                li.append(A[i])\n",
    "                c=c+1\n",
    "        for i in range(0,n-c):\n",
    "            li.append(1)\n",
    "        return li"
   ]
  },
  {
   "cell_type": "markdown",
   "id": "a9b100ec",
   "metadata": {},
   "source": [
    "# 7. Positive Negative\n",
    "Input 1:\n",
    "A = [1, 2, 3]\n",
    "\n",
    "Output 1:\n",
    "[3, 0]"
   ]
  },
  {
   "cell_type": "code",
   "execution_count": 1,
   "id": "b09f014b",
   "metadata": {},
   "outputs": [],
   "source": [
    "    def solve(self, A):\n",
    "        n=len(A)\n",
    "        pc=0\n",
    "        nc=0\n",
    "        for i in range(0,n):\n",
    "            if A[i]>0:\n",
    "                pc=pc+1\n",
    "            elif A[i]<0:\n",
    "                nc+=1\n",
    "            else:\n",
    "                pass\n",
    "        return pc,nc"
   ]
  },
  {
   "cell_type": "markdown",
   "id": "9268dd7a",
   "metadata": {},
   "source": [
    "# 8. First Missing Integer\n",
    "Input : A = [1,2,0]\n",
    "Output : 3"
   ]
  },
  {
   "cell_type": "code",
   "execution_count": 4,
   "id": "417b3131",
   "metadata": {},
   "outputs": [],
   "source": [
    "    def firstMissingPositive(A):\n",
    "        n = len(A)\n",
    "        for i in range(n):\n",
    "            if A[i] <= 0:\n",
    "                A[i] = sys.maxsize\n",
    "        for i in range(n):\n",
    "            val = abs(A[i])\n",
    "            if 0 < val <= n:\n",
    "                A[val - 1] = -abs(A[val - 1])\n",
    "        for i in range(n):\n",
    "            if A[i] > 0:\n",
    "                return i + 1\n",
    "        return n + 1"
   ]
  },
  {
   "cell_type": "code",
   "execution_count": 8,
   "id": "cfeb2de7",
   "metadata": {},
   "outputs": [
    {
     "name": "stdout",
     "output_type": "stream",
     "text": [
      "3\n"
     ]
    }
   ],
   "source": [
    "arr=[1,2,5,6,7,8]\n",
    "print(firstMissingPositive(arr))\n"
   ]
  },
  {
   "cell_type": "markdown",
   "id": "0c52380f",
   "metadata": {},
   "source": [
    "# 9. Find Duplicate in Array\n",
    "Input 1:\n",
    "A = [3, 4, 1, 4, 2]\n",
    "Output 1:\n",
    "4"
   ]
  },
  {
   "cell_type": "code",
   "execution_count": 9,
   "id": "ab618d5d",
   "metadata": {},
   "outputs": [],
   "source": [
    "def repeatedNumber(A):\n",
    "        n = len(A)\n",
    "        d = {}\n",
    "        li=[]\n",
    "        for i in range(n):\n",
    "            if A[i] in d:\n",
    "                li.append(A[i])\n",
    "            else:\n",
    "                d[A[i]] = 1\n",
    "        if li:\n",
    "            return li\n",
    "        else:\n",
    "            return -1"
   ]
  },
  {
   "cell_type": "code",
   "execution_count": 10,
   "id": "7353ce6c",
   "metadata": {},
   "outputs": [],
   "source": [
    "arr=[3, 4, 1, 4, 2,1]"
   ]
  },
  {
   "cell_type": "code",
   "execution_count": 11,
   "id": "69ef9134",
   "metadata": {},
   "outputs": [
    {
     "name": "stdout",
     "output_type": "stream",
     "text": [
      "[4, 1]\n"
     ]
    }
   ],
   "source": [
    "print(repeatedNumber(arr))"
   ]
  },
  {
   "cell_type": "markdown",
   "id": "c488be14",
   "metadata": {},
   "source": [
    "# "
   ]
  },
  {
   "cell_type": "markdown",
   "id": "1a4e2d30",
   "metadata": {},
   "source": [
    "# 10 . Subsets of an Array"
   ]
  },
  {
   "cell_type": "raw",
   "id": "8ee34691",
   "metadata": {},
   "source": [
    "Given an array of unique integer elements, print all the subsets of the given array in lexicographical order.\n",
    "\n",
    "Input Format\n",
    "\n",
    "First line of input contains T - number of test cases. Its followed by 2T lines, the first line contains N - the size of the array and second line contains the elements of the array.\n",
    "\n",
    "Constraints\n",
    "\n",
    "1 <= T <= 100\n",
    "1 <= N <= 10\n",
    "0 <= A[i] <= 100\n",
    "\n",
    "Output Format\n",
    "\n",
    "For each test case, print the subsets of the given array in lexicographical order, separated by new line. Print an extra newline between output of different test cases.\n",
    "\n",
    "Sample Input 0\n",
    "\n",
    "3\n",
    "3\n",
    "5 15 3 \n",
    "2\n",
    "57 96 \n",
    "4\n",
    "3 15 8 23 \n",
    "Sample Output 0\n",
    "\n",
    "3 \n",
    "3 5 \n",
    "3 5 15 \n",
    "3 15 \n",
    "5 \n",
    "5 15 \n",
    "15 \n",
    "\n",
    "57 \n",
    "57 96 \n",
    "96 \n",
    "\n",
    "3 \n",
    "3 8 \n",
    "3 8 15 \n",
    "3 8 15 23 \n",
    "3 8 23 \n",
    "3 15 \n",
    "3 15 23 \n",
    "3 23 \n",
    "8 \n",
    "8 15 \n",
    "8 15 23 \n",
    "8 23 \n",
    "15 \n",
    "15 23 \n",
    "23 "
   ]
  },
  {
   "cell_type": "code",
   "execution_count": 1,
   "id": "f4f3a4e1",
   "metadata": {},
   "outputs": [],
   "source": [
    "def subsets(arr):\n",
    "    n = len(arr)\n",
    "    arr.sort()\n",
    "    res = []\n",
    "    for i in range(1 << n):\n",
    "        subset = []\n",
    "        for j in range(n):\n",
    "            if i & (1 << j):\n",
    "                subset.append(arr[j])\n",
    "        res.append(subset)\n",
    "    return res"
   ]
  },
  {
   "cell_type": "code",
   "execution_count": null,
   "id": "a2a62383",
   "metadata": {},
   "outputs": [],
   "source": []
  }
 ],
 "metadata": {
  "kernelspec": {
   "display_name": "Python 3 (ipykernel)",
   "language": "python",
   "name": "python3"
  },
  "language_info": {
   "codemirror_mode": {
    "name": "ipython",
    "version": 3
   },
   "file_extension": ".py",
   "mimetype": "text/x-python",
   "name": "python",
   "nbconvert_exporter": "python",
   "pygments_lexer": "ipython3",
   "version": "3.9.0"
  }
 },
 "nbformat": 4,
 "nbformat_minor": 5
}
