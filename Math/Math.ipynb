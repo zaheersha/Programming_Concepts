{
 "cells": [
  {
   "cell_type": "markdown",
   "id": "ad10e70a",
   "metadata": {},
   "source": [
    "# Basic Math Program "
   ]
  },
  {
   "cell_type": "markdown",
   "id": "bfe29f46",
   "metadata": {},
   "source": [
    "1. You are given an integer N and the task is to reverse the digits of the given integer. Return 0 if the result overflows and does not fit in a 32 bit signed integer\n",
    "\n",
    "\n",
    "Example Input\n",
    "Input 1:\n",
    "\n",
    " x = 123\n",
    "\n",
    "\n",
    "Input 2:\n",
    "\n",
    " x = -123\n",
    "\n",
    "\n",
    "Example Output\n",
    "Output 1:\n",
    "\n",
    " 321\n",
    "\n",
    "\n",
    "Ouput 2:\n",
    "\n",
    " -321\n",
    "\n",
    "\n",
    "Example Explanation\n",
    " If the given integer is negative like -123 the output is also negative -321.\n"
   ]
  },
  {
   "cell_type": "code",
   "execution_count": 1,
   "id": "a1615165",
   "metadata": {},
   "outputs": [],
   "source": [
    "def reverse(self, A):\n",
    "        if A>0:\n",
    "            sign=1\n",
    "        else:\n",
    "            sign= -1\n",
    "        \n",
    "        A=abs(A)\n",
    "        rev=int(str(A)[::-1])\n",
    "        if rev > 2**31 - 1 or rev < -2**31:\n",
    "            return 0\n",
    "        \n",
    "        return sign * rev\n",
    "        "
   ]
  },
  {
   "cell_type": "markdown",
   "id": "27b53d3c",
   "metadata": {},
   "source": [
    "# "
   ]
  },
  {
   "cell_type": "markdown",
   "id": "d3ccbd28",
   "metadata": {},
   "source": [
    "2. Determine whether an integer is a palindrome. Do this without extra space.\n",
    "\n",
    "A palindrome integer is an integer x for which reverse(x) = x where reverse(x) is x with its digit reversed. Negative numbers are not palindromic.\n",
    "\n",
    "\n",
    "\n",
    "Problem Constraints\n",
    "INT_MIN <= A <= INT_MAX\n",
    "\n",
    "\n",
    "Input Format\n",
    "The first argument is an integer A.\n",
    "\n",
    "\n",
    "Output Format\n",
    "Return 1 if A is a Palindrome Integer else return 0.\n",
    "\n",
    "\n",
    "Example Input\n",
    "Input 1:\n",
    "A = 12121\n",
    "Input 2:\n",
    "A = 123\n",
    "\n",
    "\n",
    "Example Output\n",
    "Output 1:\n",
    "1\n",
    "Output 2:\n",
    "0"
   ]
  },
  {
   "cell_type": "code",
   "execution_count": 2,
   "id": "18307902",
   "metadata": {},
   "outputs": [],
   "source": [
    "def isPalindrome(self, A):\n",
    "        if A < 0:\n",
    "            return 0\n",
    "        num = A\n",
    "        rev = 0\n",
    "        while num > 0:\n",
    "            rev = rev*10 + num%10\n",
    "            num = num//10\n",
    "        if rev==A:\n",
    "            return 1 \n",
    "        else:\n",
    "            return 0"
   ]
  },
  {
   "cell_type": "markdown",
   "id": "54a0950c",
   "metadata": {},
   "source": [
    "# "
   ]
  },
  {
   "cell_type": "markdown",
   "id": "2709fa66",
   "metadata": {},
   "source": [
    "# Given 2 non-negative integers A and B, find gcd(A, B).\n",
    "GCD of 2 integers m and n is defined as the greatest integer g such that g is a divisor of both m and n.\n",
    "Both A and B fit in a 32-bit signed integer.\n",
    "NOTE: DO NOT USE LIBRARY FUNCTIONS\n",
    "\n",
    "\n",
    "Problem Constraints\n",
    "0 <= A <= 109\n",
    "0 <= B <= 109\n",
    "\n",
    "\n",
    "Input Format\n",
    "The first argument is an integer A.\n",
    "The second argument is an integer B.\n",
    "\n",
    "\n",
    "Output Format\n",
    "Return the Greatest Common Divisor of A and B\n",
    "\n",
    "\n",
    "Example Input\n",
    "Input 1:\n",
    "A = 6\n",
    "B = 9\n",
    "\n",
    "\n",
    "Example Output\n",
    "Output 1:\n",
    "3\n",
    "\n",
    "\n",
    "Example Explanation\n",
    "Explanation 1:\n",
    "3 is the GCD of 6 and 9"
   ]
  },
  {
   "cell_type": "code",
   "execution_count": 3,
   "id": "b04f8ac5",
   "metadata": {},
   "outputs": [],
   "source": [
    "def gcd(self, A, B):\n",
    "        if A == 0:\n",
    "            return B\n",
    "        if B == 0:\n",
    "            return A\n",
    "        while B:\n",
    "            A, B = B, A % B\n",
    "        return A\n"
   ]
  },
  {
   "cell_type": "markdown",
   "id": "0fc161df",
   "metadata": {},
   "source": [
    "# "
   ]
  },
  {
   "cell_type": "markdown",
   "id": "cc9071f5",
   "metadata": {},
   "source": [
    "Given four positive integers A, B, C, D, determine if there’s a rectangle such that the lengths of its sides are A, B, C and D (in any order).\n",
    "\n",
    "If any such rectangle exist return 1 else return 0.\n",
    "\n",
    "\n",
    "\n",
    "Problem Constraints\n",
    "1 <= A, B, C, D <= 100\n",
    "\n",
    "\n",
    "\n",
    "Input Format\n",
    "First argument is an interger A.\n",
    "\n",
    "Second argument is an interger B.\n",
    "\n",
    "Third argument is an interger C.\n",
    "\n",
    "Fourth argument is an interger D.\n",
    "\n",
    "\n",
    "\n",
    "Output Format\n",
    "If any such rectangle exist whose sides are A, B, C, D in any orde then return 1 else return 0.\n",
    "\n",
    "\n",
    "\n",
    "Example Input\n",
    "Input 1:\n",
    "\n",
    " A = 1\n",
    " B = 1\n",
    " C = 2\n",
    " D = 2\n",
    "Input 2:\n",
    "\n",
    " A = 1\n",
    " B = 2\n",
    " C = 3\n",
    " D = 4\n",
    "\n",
    "\n",
    "Example Output\n",
    "Output 1:\n",
    "\n",
    " 1\n",
    "Output 2:\n",
    "\n",
    " 0\n",
    "\n",
    "\n",
    "Example Explanation\n",
    "Explanation 1:\n",
    "\n",
    " \n",
    " The rectangle drawn above is one of the rectangles that can be formed by side length of 1, 1, 2, 2 so we will return 1.\n",
    "Explanation 2:\n",
    "\n",
    " No such rectangle exist whose sides are 1, 2, 3, 4. So, we will return 0."
   ]
  },
  {
   "cell_type": "code",
   "execution_count": 4,
   "id": "7a439d66",
   "metadata": {},
   "outputs": [],
   "source": [
    " def solve(self, A, B, C, D):\n",
    "        if A==C and B==D:\n",
    "            return 1\n",
    "        elif A==B  and C==D:\n",
    "            return 1\n",
    "        else:\n",
    "            return 0\n"
   ]
  },
  {
   "cell_type": "markdown",
   "id": "cde2797b",
   "metadata": {},
   "source": [
    "# "
   ]
  },
  {
   "cell_type": "markdown",
   "id": "e0a3bcc7",
   "metadata": {},
   "source": [
    "# Fizzbuzz is one of the most basic problems in the coding interview world. Try to write a small and elegant code for this problem.\n",
    "\n",
    "Given a positive integer A, return an array of strings with all the integers from 1 to N. \n",
    "\n",
    "But for multiples of 3 the array should have “Fizz” instead of the number. \n",
    "\n",
    "For the multiples of 5, the array should have “Buzz” instead of the number. \n",
    "\n",
    "For numbers which are multiple of 3 and 5 both, the array should have “FizzBuzz” instead of the number.\n",
    "\n",
    "Look at the example for more details.\n",
    "\n",
    "Example\n",
    "\n",
    "A = 5\n",
    "Return: [1 2 Fizz 4 Buzz]"
   ]
  },
  {
   "cell_type": "code",
   "execution_count": 5,
   "id": "ce3b0557",
   "metadata": {},
   "outputs": [],
   "source": [
    "def fizzBuzz(self, A):\n",
    "        li=[]\n",
    "        for i in range(1,A+1):\n",
    "            if i%3 == 0 and i%5 != 0 :\n",
    "                li.append(\"Fizz\")\n",
    "            elif i%5 == 0 and i%3 != 0:\n",
    "                li.append(\"Buzz\")\n",
    "            elif i%3 == 0 and i%5 == 0:\n",
    "                li.append(\"FizzBuzz\")\n",
    "            else:\n",
    "                li.append(i)\n",
    "        return li\n"
   ]
  },
  {
   "cell_type": "markdown",
   "id": "fd805943",
   "metadata": {},
   "source": [
    "# "
   ]
  },
  {
   "cell_type": "markdown",
   "id": "22a245ec",
   "metadata": {},
   "source": [
    "6. Given a number N, verify if N is prime or not.\n",
    "\n",
    "Return 1 if N is prime, else return 0.\n",
    "\n",
    "Example :\n",
    "\n",
    "Input : 7\n",
    "Output : True\n",
    "Problem Approach:\n",
    "\n",
    "VIDEO : https://www.youtube.com/watch?v=7VPA-HjjUmU\n",
    "\n",
    "Complete code in the hint."
   ]
  },
  {
   "cell_type": "code",
   "execution_count": 6,
   "id": "803548f1",
   "metadata": {},
   "outputs": [],
   "source": [
    "def isPrime(self, A):\n",
    "        if A<=1:\n",
    "            return 0\n",
    "        n=int(A**0.5)+1\n",
    "        for i in range(2,n):\n",
    "            if A%i==0:\n",
    "                return 0\n",
    "        return 1"
   ]
  },
  {
   "cell_type": "markdown",
   "id": "b0b41caa",
   "metadata": {},
   "source": [
    "# "
   ]
  },
  {
   "cell_type": "markdown",
   "id": "6624041e",
   "metadata": {},
   "source": [
    "7. Binary Representation\n",
    "\n",
    "\n",
    "33\n",
    "\n",
    "4\n",
    "Given a number N >= 0, find its representation in binary.\n",
    "\n",
    "Example:\n",
    "\n",
    "if N = 6,\n",
    "\n",
    "binary form = 110"
   ]
  },
  {
   "cell_type": "code",
   "execution_count": 7,
   "id": "83a0878f",
   "metadata": {},
   "outputs": [],
   "source": [
    "def findDigitsInBinary(self, A):\n",
    "        bin_num=bin(A)\n",
    "        return str(bin_num[2:])\n"
   ]
  },
  {
   "cell_type": "markdown",
   "id": "c2714956",
   "metadata": {},
   "source": [
    "# "
   ]
  },
  {
   "cell_type": "markdown",
   "id": "8a15b4a9",
   "metadata": {},
   "source": [
    "# 8. LCM and HCF "
   ]
  },
  {
   "cell_type": "markdown",
   "id": "a139c8a0",
   "metadata": {},
   "source": [
    "# Given 2 numbers, find their LCM and HCF.\n",
    "Note: Do not use any inbuilt functions/libraries for your main logic.\n",
    "\n",
    "Input Format\n",
    "\n",
    "First line of input contains T - number of test cases. Its followed by T lines, each contains 2 numbers A and B.\n",
    "\n",
    "Constraints\n",
    "\n",
    "1 <= T <= 105\n",
    "1 <= A,B <= 109\n",
    "\n",
    "Output Format\n",
    "\n",
    "For each test case, print their LCM and HCF separated by space, separated by newline.\n",
    "\n",
    "Sample Input 0\n",
    "\n",
    "4\n",
    "4 710\n",
    "13 1\n",
    "6 4\n",
    "605904 996510762\n",
    "Sample Output 0\n",
    "\n",
    "1420 2\n",
    "13 1\n",
    "12 2\n",
    "7740895599216 78"
   ]
  },
  {
   "cell_type": "code",
   "execution_count": null,
   "id": "09544235",
   "metadata": {},
   "outputs": [],
   "source": [
    "def gcd(a,b):\n",
    "    if a==0:\n",
    "        return b\n",
    "    else:\n",
    "        return gcd(b%a,a)\n",
    "    \n",
    "#t=int(input())\n",
    "for i in range(t):\n",
    "    #a,b=map(int,input().split())\n",
    "    hcf=gcd(a,b)\n",
    "    lcm=a*b//hcf\n",
    "    print(lcm,hcf)"
   ]
  },
  {
   "cell_type": "markdown",
   "id": "7614c449",
   "metadata": {},
   "source": [
    "# "
   ]
  },
  {
   "cell_type": "markdown",
   "id": "cfa0449b",
   "metadata": {},
   "source": [
    "# "
   ]
  }
 ],
 "metadata": {
  "kernelspec": {
   "display_name": "Python 3 (ipykernel)",
   "language": "python",
   "name": "python3"
  },
  "language_info": {
   "codemirror_mode": {
    "name": "ipython",
    "version": 3
   },
   "file_extension": ".py",
   "mimetype": "text/x-python",
   "name": "python",
   "nbconvert_exporter": "python",
   "pygments_lexer": "ipython3",
   "version": "3.9.0"
  }
 },
 "nbformat": 4,
 "nbformat_minor": 5
}
