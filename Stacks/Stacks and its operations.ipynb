{
 "cells": [
  {
   "cell_type": "markdown",
   "id": "e1e316cd",
   "metadata": {},
   "source": [
    "# Implementation of Stack in Python.\n"
   ]
  },
  {
   "cell_type": "code",
   "execution_count": 1,
   "id": "aef48c68",
   "metadata": {},
   "outputs": [],
   "source": [
    "class Stack:\n",
    "    def __init__(self):\n",
    "        self.stack = []\n",
    "\n",
    "    def push(self, item):\n",
    "        self.stack.append(item)\n",
    "\n",
    "    def pop(self):\n",
    "        if len(self.stack) < 1:\n",
    "            return None\n",
    "        return self.stack.pop()\n",
    "\n",
    "    def peek(self):\n",
    "        if len(self.stack) < 1:\n",
    "            return None\n",
    "        return self.stack[-1]\n",
    "\n",
    "    def is_empty(self):\n",
    "        return len(self.stack) < 1\n"
   ]
  },
  {
   "cell_type": "code",
   "execution_count": 2,
   "id": "df69985c",
   "metadata": {},
   "outputs": [
    {
     "name": "stdout",
     "output_type": "stream",
     "text": [
      "3\n",
      "3\n",
      "2\n",
      "1\n",
      "True\n"
     ]
    }
   ],
   "source": [
    "# Create a new stack\n",
    "s = Stack()\n",
    "\n",
    "# Push items onto the stack\n",
    "s.push(1)\n",
    "s.push(2)\n",
    "s.push(3)\n",
    "\n",
    "# Peek at the top item on the stack\n",
    "print(s.peek())  # Output: 3\n",
    "\n",
    "# Pop items off the stack\n",
    "print(s.pop())   # Output: 3\n",
    "print(s.pop())   # Output: 2\n",
    "print(s.pop())   # Output: 1\n",
    "\n",
    "# Check if the stack is empty\n",
    "print(s.is_empty())  # Output: True\n"
   ]
  },
  {
   "cell_type": "markdown",
   "id": "1fbb899a",
   "metadata": {},
   "source": [
    "# "
   ]
  },
  {
   "cell_type": "code",
   "execution_count": null,
   "id": "3d77986d",
   "metadata": {},
   "outputs": [],
   "source": []
  }
 ],
 "metadata": {
  "kernelspec": {
   "display_name": "Python 3 (ipykernel)",
   "language": "python",
   "name": "python3"
  },
  "language_info": {
   "codemirror_mode": {
    "name": "ipython",
    "version": 3
   },
   "file_extension": ".py",
   "mimetype": "text/x-python",
   "name": "python",
   "nbconvert_exporter": "python",
   "pygments_lexer": "ipython3",
   "version": "3.9.0"
  }
 },
 "nbformat": 4,
 "nbformat_minor": 5
}
