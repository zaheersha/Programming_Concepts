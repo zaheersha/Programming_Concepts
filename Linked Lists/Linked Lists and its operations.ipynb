{
 "cells": [
  {
   "cell_type": "markdown",
   "id": "54184e8a",
   "metadata": {},
   "source": [
    "# Implementation of Linked Lists in Python"
   ]
  },
  {
   "cell_type": "markdown",
   "id": "89615f54",
   "metadata": {},
   "source": [
    "This implementation of linked list has methods add_first, add_last, remove_first, remove_last and print_list\n",
    "\n",
    "add_first(data) method creates a new node with the given data and adds it to the front of the list.\n",
    "add_last(data) method creates a new node with the given data and adds it to the end of the list.\n",
    "remove_first() method removes the first node from the list.\n",
    "remove_last() method removes the last node from the list.\n",
    "print_list() method prints the data of each node in the list starting from the head."
   ]
  },
  {
   "cell_type": "code",
   "execution_count": 1,
   "id": "e29e1041",
   "metadata": {},
   "outputs": [],
   "source": [
    "class Node:\n",
    "    def __init__(self, data=None):\n",
    "        self.data = data\n",
    "        self.next = None\n",
    "\n",
    "class LinkedList:\n",
    "    def __init__(self):\n",
    "        self.head = None\n",
    "\n",
    "    def add_first(self, data):\n",
    "        new_node = Node(data)\n",
    "        new_node.next = self.head\n",
    "        self.head = new_node\n",
    "        \n",
    "    def add_last(self, data):\n",
    "        new_node = Node(data)\n",
    "        if self.head is None:\n",
    "            self.head = new_node\n",
    "            return\n",
    "        curr = self.head\n",
    "        while curr.next:\n",
    "            curr = curr.next\n",
    "        curr.next = new_node\n",
    "        \n",
    "    def remove_first(self):\n",
    "        if self.head is None:\n",
    "            return\n",
    "        self.head = self.head.next\n",
    "        \n",
    "    def remove_last(self):\n",
    "        if self.head is None:\n",
    "            return\n",
    "        if self.head.next is None:\n",
    "            self.head = None\n",
    "            return\n",
    "        curr = self.head\n",
    "        while curr.next.next:\n",
    "            curr = curr.next\n",
    "        curr.next = None\n",
    "        \n",
    "    def print_list(self):\n",
    "        curr = self.head\n",
    "        while curr:\n",
    "            print(curr.data)\n",
    "            curr = curr.next\n"
   ]
  },
  {
   "cell_type": "code",
   "execution_count": 2,
   "id": "db124e22",
   "metadata": {},
   "outputs": [
    {
     "name": "stdout",
     "output_type": "stream",
     "text": [
      "2\n",
      "1\n",
      "3\n",
      "4\n",
      "1\n",
      "3\n"
     ]
    }
   ],
   "source": [
    "ll = LinkedList()\n",
    "ll.add_first(1)\n",
    "ll.add_first(2)\n",
    "ll.add_last(3)\n",
    "ll.add_last(4)\n",
    "ll.print_list()\n",
    "# Output: 2 1 3 4\n",
    "ll.remove_first()\n",
    "ll.remove_last()\n",
    "ll.print_list()\n",
    "# Output: 1 3\n"
   ]
  },
  {
   "cell_type": "markdown",
   "id": "1136f9a7",
   "metadata": {},
   "source": [
    "# Linked list using collections module in python"
   ]
  },
  {
   "cell_type": "code",
   "execution_count": 3,
   "id": "1852c44d",
   "metadata": {},
   "outputs": [],
   "source": [
    "from collections import deque\n",
    "\n",
    "class LinkedList:\n",
    "    def __init__(self):\n",
    "        self.deque = deque()\n",
    "\n",
    "    def add_first(self, data):\n",
    "        self.deque.appendleft(data)\n",
    "\n",
    "    def add_last(self, data):\n",
    "        self.deque.append(data)\n",
    "\n",
    "    def remove_first(self):\n",
    "        if len(self.deque) > 0:\n",
    "            self.deque.popleft()\n",
    "\n",
    "    def remove_last(self):\n",
    "        if len(self.deque) > 0:\n",
    "            self.deque.pop()\n",
    "            \n",
    "    def print_list(self):\n",
    "        for item in self.deque:\n",
    "            print(item)\n"
   ]
  },
  {
   "cell_type": "code",
   "execution_count": 4,
   "id": "7d9739c7",
   "metadata": {},
   "outputs": [
    {
     "name": "stdout",
     "output_type": "stream",
     "text": [
      "2\n",
      "1\n",
      "3\n",
      "4\n",
      "1\n",
      "3\n"
     ]
    }
   ],
   "source": [
    "ll = LinkedList()\n",
    "ll.add_first(1)\n",
    "ll.add_first(2)\n",
    "ll.add_last(3)\n",
    "ll.add_last(4)\n",
    "ll.print_list()\n",
    "# Output: 2 1 3 4\n",
    "ll.remove_first()\n",
    "ll.remove_last()\n",
    "ll.print_list()\n",
    "# Output: 1 3\n"
   ]
  },
  {
   "cell_type": "code",
   "execution_count": null,
   "id": "dc20e2be",
   "metadata": {},
   "outputs": [],
   "source": []
  }
 ],
 "metadata": {
  "kernelspec": {
   "display_name": "Python 3 (ipykernel)",
   "language": "python",
   "name": "python3"
  },
  "language_info": {
   "codemirror_mode": {
    "name": "ipython",
    "version": 3
   },
   "file_extension": ".py",
   "mimetype": "text/x-python",
   "name": "python",
   "nbconvert_exporter": "python",
   "pygments_lexer": "ipython3",
   "version": "3.9.0"
  }
 },
 "nbformat": 4,
 "nbformat_minor": 5
}
