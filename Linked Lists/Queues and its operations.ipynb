{
 "cells": [
  {
   "cell_type": "markdown",
   "id": "5de41c97",
   "metadata": {},
   "source": [
    "# Implementaion of Queues in Python"
   ]
  },
  {
   "cell_type": "code",
   "execution_count": 1,
   "id": "aa65f4e0",
   "metadata": {},
   "outputs": [],
   "source": [
    "class Queue:\n",
    "    def __init__(self):\n",
    "        self.queue = []\n",
    "\n",
    "    def enqueue(self, item):\n",
    "        self.queue.append(item)\n",
    "\n",
    "    def dequeue(self):\n",
    "        if len(self.queue) < 1:\n",
    "            return None\n",
    "        return self.queue.pop(0)\n",
    "\n",
    "    def peek(self):\n",
    "        if len(self.queue) < 1:\n",
    "            return None\n",
    "        return self.queue[0]\n",
    "\n",
    "    def is_empty(self):\n",
    "        return len(self.queue) < 1\n"
   ]
  },
  {
   "cell_type": "code",
   "execution_count": 2,
   "id": "eda487f9",
   "metadata": {},
   "outputs": [
    {
     "name": "stdout",
     "output_type": "stream",
     "text": [
      "1\n",
      "1\n",
      "2\n",
      "3\n",
      "True\n"
     ]
    }
   ],
   "source": [
    "# Create a new queue\n",
    "q = Queue()\n",
    "\n",
    "# Enqueue items onto the queue\n",
    "q.enqueue(1)\n",
    "q.enqueue(2)\n",
    "q.enqueue(3)\n",
    "\n",
    "# Peek at the front item on the queue\n",
    "print(q.peek())  # Output: 1\n",
    "\n",
    "# Dequeue items from the queue\n",
    "print(q.dequeue())   # Output: 1\n",
    "print(q.dequeue())   # Output: 2\n",
    "print(q.dequeue())   # Output: 3\n",
    "\n",
    "# Check if the queue is empty\n",
    "print(q.is_empty())  # Output: True\n"
   ]
  },
  {
   "cell_type": "markdown",
   "id": "14001b8b",
   "metadata": {},
   "source": [
    "# Implementation of Queues in Python using Collections Module"
   ]
  },
  {
   "cell_type": "code",
   "execution_count": 3,
   "id": "0ae42bdb",
   "metadata": {},
   "outputs": [
    {
     "data": {
      "text/plain": [
       "1"
      ]
     },
     "execution_count": 3,
     "metadata": {},
     "output_type": "execute_result"
    }
   ],
   "source": [
    "from collections import deque\n",
    "queue = deque()\n",
    "queue.append(1)\n",
    "queue.append(2)\n",
    "queue.popleft() #1\n"
   ]
  },
  {
   "cell_type": "code",
   "execution_count": null,
   "id": "3aa62223",
   "metadata": {},
   "outputs": [],
   "source": []
  },
  {
   "cell_type": "code",
   "execution_count": null,
   "id": "9feedc7c",
   "metadata": {},
   "outputs": [],
   "source": []
  },
  {
   "cell_type": "code",
   "execution_count": null,
   "id": "4a74c248",
   "metadata": {},
   "outputs": [],
   "source": []
  },
  {
   "cell_type": "code",
   "execution_count": null,
   "id": "3c61ac6a",
   "metadata": {},
   "outputs": [],
   "source": []
  }
 ],
 "metadata": {
  "kernelspec": {
   "display_name": "Python 3 (ipykernel)",
   "language": "python",
   "name": "python3"
  },
  "language_info": {
   "codemirror_mode": {
    "name": "ipython",
    "version": 3
   },
   "file_extension": ".py",
   "mimetype": "text/x-python",
   "name": "python",
   "nbconvert_exporter": "python",
   "pygments_lexer": "ipython3",
   "version": "3.9.0"
  }
 },
 "nbformat": 4,
 "nbformat_minor": 5
}
